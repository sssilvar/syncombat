{
 "cells": [
  {
   "cell_type": "markdown",
   "source": [
    "# An example on covariate and phenotype generation\n",
    "\n",
    "This example shows how to generate covariates and phenotypes out of these covariates. In the process generation, covariates such as age, sex, diagnosis are considered to be independent. Estimated total intracranial volume (eTIV or ICV) is known to be dependent on age and sex. However, we won't consider its influence on diagnosis.\n",
    "\n",
    "Data sample distribution can be iid (independent and identically distributed), mildly dependent, or strongly dependent (non-IID).\n",
    "\n"
   ],
   "metadata": {
    "collapsed": false
   }
  }
 ],
 "metadata": {
  "kernelspec": {
   "display_name": "Python 3",
   "language": "python",
   "name": "python3"
  },
  "language_info": {
   "codemirror_mode": {
    "name": "ipython",
    "version": 2
   },
   "file_extension": ".py",
   "mimetype": "text/x-python",
   "name": "python",
   "nbconvert_exporter": "python",
   "pygments_lexer": "ipython2",
   "version": "2.7.6"
  }
 },
 "nbformat": 4,
 "nbformat_minor": 0
}
